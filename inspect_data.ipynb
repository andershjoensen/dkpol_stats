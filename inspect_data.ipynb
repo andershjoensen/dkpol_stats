{
 "cells": [
  {
   "cell_type": "code",
   "execution_count": 1,
   "metadata": {},
   "outputs": [],
   "source": [
    "%load_ext autoreload\n",
    "%autoreload 2"
   ]
  },
  {
   "cell_type": "code",
   "execution_count": 36,
   "metadata": {},
   "outputs": [],
   "source": [
    "import db_manager as dm\n",
    "import config_params as cp\n",
    "import networkx as nx\n",
    "import pandas as pd\n",
    "import numpy as np\n",
    "import math\n",
    "\n",
    "from datetime import datetime\n",
    "import matplotlib.pyplot as plt\n",
    "\n",
    "\n",
    "\n",
    "plt.rcParams['figure.figsize'] = [10, 5]"
   ]
  },
  {
   "cell_type": "markdown",
   "metadata": {},
   "source": [
    "# Undersøg entities i tweets"
   ]
  },
  {
   "cell_type": "code",
   "execution_count": 37,
   "metadata": {},
   "outputs": [],
   "source": [
    "#load entities ind\n",
    "entities = dm.query_db(\"select * from twitter.entity_tweets\")"
   ]
  },
  {
   "cell_type": "code",
   "execution_count": 38,
   "metadata": {},
   "outputs": [
    {
     "name": "stdout",
     "output_type": "stream",
     "text": [
      "shape of entities tbl:  (40146, 6)\n"
     ]
    },
    {
     "data": {
      "text/html": [
       "<div>\n",
       "<style scoped>\n",
       "    .dataframe tbody tr th:only-of-type {\n",
       "        vertical-align: middle;\n",
       "    }\n",
       "\n",
       "    .dataframe tbody tr th {\n",
       "        vertical-align: top;\n",
       "    }\n",
       "\n",
       "    .dataframe thead th {\n",
       "        text-align: right;\n",
       "    }\n",
       "</style>\n",
       "<table border=\"1\" class=\"dataframe\">\n",
       "  <thead>\n",
       "    <tr style=\"text-align: right;\">\n",
       "      <th></th>\n",
       "      <th>tweet_id</th>\n",
       "      <th>mentioned_id</th>\n",
       "      <th>tag</th>\n",
       "      <th>url</th>\n",
       "      <th>annotation_type</th>\n",
       "      <th>annontation_text</th>\n",
       "    </tr>\n",
       "  </thead>\n",
       "  <tbody>\n",
       "    <tr>\n",
       "      <th>0</th>\n",
       "      <td>1477374856245166081</td>\n",
       "      <td>1462520590884126721</td>\n",
       "      <td>None</td>\n",
       "      <td>None</td>\n",
       "      <td>None</td>\n",
       "      <td>None</td>\n",
       "    </tr>\n",
       "    <tr>\n",
       "      <th>1</th>\n",
       "      <td>1477374856245166081</td>\n",
       "      <td>None</td>\n",
       "      <td>2022NewYear</td>\n",
       "      <td>None</td>\n",
       "      <td>None</td>\n",
       "      <td>None</td>\n",
       "    </tr>\n",
       "    <tr>\n",
       "      <th>2</th>\n",
       "      <td>1477374834829111297</td>\n",
       "      <td>129159317</td>\n",
       "      <td>None</td>\n",
       "      <td>None</td>\n",
       "      <td>None</td>\n",
       "      <td>None</td>\n",
       "    </tr>\n",
       "    <tr>\n",
       "      <th>3</th>\n",
       "      <td>1477374834829111297</td>\n",
       "      <td>None</td>\n",
       "      <td>dkpol</td>\n",
       "      <td>None</td>\n",
       "      <td>None</td>\n",
       "      <td>None</td>\n",
       "    </tr>\n",
       "    <tr>\n",
       "      <th>4</th>\n",
       "      <td>1477374804021989379</td>\n",
       "      <td>4289258058</td>\n",
       "      <td>None</td>\n",
       "      <td>None</td>\n",
       "      <td>None</td>\n",
       "      <td>None</td>\n",
       "    </tr>\n",
       "  </tbody>\n",
       "</table>\n",
       "</div>"
      ],
      "text/plain": [
       "              tweet_id         mentioned_id          tag   url  \\\n",
       "0  1477374856245166081  1462520590884126721         None  None   \n",
       "1  1477374856245166081                 None  2022NewYear  None   \n",
       "2  1477374834829111297            129159317         None  None   \n",
       "3  1477374834829111297                 None        dkpol  None   \n",
       "4  1477374804021989379           4289258058         None  None   \n",
       "\n",
       "  annotation_type annontation_text  \n",
       "0            None             None  \n",
       "1            None             None  \n",
       "2            None             None  \n",
       "3            None             None  \n",
       "4            None             None  "
      ]
     },
     "execution_count": 38,
     "metadata": {},
     "output_type": "execute_result"
    }
   ],
   "source": [
    "print(\"shape of entities tbl: \", entities.shape)\n",
    "entities.head(5)"
   ]
  },
  {
   "cell_type": "code",
   "execution_count": 39,
   "metadata": {},
   "outputs": [
    {
     "name": "stdout",
     "output_type": "stream",
     "text": [
      "antal mentions i tweets: 18734\n",
      "antal urls i tweets: 7692\n",
      "antal tags i tweets: 13097\n"
     ]
    }
   ],
   "source": [
    "print(\"antal mentions i tweets:\", entities[~entities['mentioned_id'].isna()].shape[0])\n",
    "print(\"antal urls i tweets:\", entities[~entities['url'].isna()].shape[0])\n",
    "print(\"antal tags i tweets:\", entities[~entities['tag'].isna()].shape[0])"
   ]
  },
  {
   "cell_type": "markdown",
   "metadata": {},
   "source": [
    "## 10 mest anvendte tags i dkpol (på nær #dkpol)"
   ]
  },
  {
   "cell_type": "code",
   "execution_count": 40,
   "metadata": {},
   "outputs": [
    {
     "data": {
      "text/plain": [
       "<matplotlib.axes._subplots.AxesSubplot at 0x7f5a34dc5d30>"
      ]
     },
     "execution_count": 40,
     "metadata": {},
     "output_type": "execute_result"
    },
    {
     "data": {
      "image/png": "[encoded data removed]",
      "text/plain": [
       "<Figure size 720x360 with 1 Axes>"
      ]
     },
     "metadata": {
      "needs_background": "light"
     },
     "output_type": "display_data"
    }
   ],
   "source": [
    "title = \"10 mest anvendte tags i dkpol (på nær #dkpol)\"\n",
    "\n",
    "k = 20\n",
    "top_k_tags = list(entities.tag.value_counts().head(k).index)\n",
    "#top_k_tags.remove(\"dkpol\")\n",
    "\n",
    "entities[entities['tag'].isin(top_k_tags)]['tag'].value_counts().plot.barh(title=title)"
   ]
  },
  {
   "cell_type": "code",
   "execution_count": 7,
   "metadata": {},
   "outputs": [],
   "source": [
    "def get_domain(url):\n",
    "    return url.split(\"/\")[2]"
   ]
  },
  {
   "cell_type": "code",
   "execution_count": 8,
   "metadata": {},
   "outputs": [],
   "source": [
    "entities['url_domain'] = [get_domain(url) if url is not None else None for url in entities.url.values ]"
   ]
  },
  {
   "cell_type": "markdown",
   "metadata": {},
   "source": [
    "## 10 mest hyppige domæner i dkpol (på nær twitter.com)"
   ]
  },
  {
   "cell_type": "code",
   "execution_count": 9,
   "metadata": {},
   "outputs": [
    {
     "data": {
      "text/plain": [
       "<matplotlib.axes._subplots.AxesSubplot at 0x7f5a3a89e470>"
      ]
     },
     "execution_count": 9,
     "metadata": {},
     "output_type": "execute_result"
    },
    {
     "data": {
      "image/png": "[encoded data removed]",
      "text/plain": [
       "<Figure size 720x360 with 1 Axes>"
      ]
     },
     "metadata": {
      "needs_background": "light"
     },
     "output_type": "display_data"
    }
   ],
   "source": [
    "title=\"10 mest hyppige domæner i dkpol\"\n",
    "k = 11\n",
    "\n",
    "top_k_tags = list(entities.url_domain.value_counts().head(k).index)\n",
    "top_k_tags.remove(\"twitter.com\")\n",
    "\n",
    "entities[entities['url_domain'].isin(top_k_tags)]['url_domain'].value_counts().plot.barh(title=title)"
   ]
  },
  {
   "cell_type": "markdown",
   "metadata": {},
   "source": [
    "# Undersøg tweets"
   ]
  },
  {
   "cell_type": "code",
   "execution_count": 10,
   "metadata": {},
   "outputs": [],
   "source": [
    "tweets = dm.query_db(\"select * from twitter.tweets\")"
   ]
  },
  {
   "cell_type": "code",
   "execution_count": 11,
   "metadata": {},
   "outputs": [
    {
     "name": "stdout",
     "output_type": "stream",
     "text": [
      "shape of tweets tbl:  (21794, 11)\n"
     ]
    },
    {
     "data": {
      "text/html": [
       "<div>\n",
       "<style scoped>\n",
       "    .dataframe tbody tr th:only-of-type {\n",
       "        vertical-align: middle;\n",
       "    }\n",
       "\n",
       "    .dataframe tbody tr th {\n",
       "        vertical-align: top;\n",
       "    }\n",
       "\n",
       "    .dataframe thead th {\n",
       "        text-align: right;\n",
       "    }\n",
       "</style>\n",
       "<table border=\"1\" class=\"dataframe\">\n",
       "  <thead>\n",
       "    <tr style=\"text-align: right;\">\n",
       "      <th></th>\n",
       "      <th>author_id</th>\n",
       "      <th>tweet_id</th>\n",
       "      <th>conversation_id</th>\n",
       "      <th>referenced_type</th>\n",
       "      <th>referenced_id</th>\n",
       "      <th>created_at</th>\n",
       "      <th>text</th>\n",
       "      <th>retweet_count</th>\n",
       "      <th>reply_count</th>\n",
       "      <th>like_count</th>\n",
       "      <th>quote_count</th>\n",
       "    </tr>\n",
       "  </thead>\n",
       "  <tbody>\n",
       "    <tr>\n",
       "      <th>0</th>\n",
       "      <td>27206715</td>\n",
       "      <td>1477374856245166081</td>\n",
       "      <td>1477374856245166081</td>\n",
       "      <td>retweeted</td>\n",
       "      <td>1476937026859683846</td>\n",
       "      <td>2022-01-01 20:23:08</td>\n",
       "      <td>RT @MahmoudSuhil: Jeg ønsker alle et godt nytå...</td>\n",
       "      <td>12</td>\n",
       "      <td>0</td>\n",
       "      <td>0</td>\n",
       "      <td>0</td>\n",
       "    </tr>\n",
       "    <tr>\n",
       "      <th>1</th>\n",
       "      <td>92745620</td>\n",
       "      <td>1477374834829111297</td>\n",
       "      <td>1477374834829111297</td>\n",
       "      <td>None</td>\n",
       "      <td>None</td>\n",
       "      <td>2022-01-01 20:23:03</td>\n",
       "      <td>Så @btdk’s dækning af statsministerens nytårst...</td>\n",
       "      <td>0</td>\n",
       "      <td>0</td>\n",
       "      <td>0</td>\n",
       "      <td>0</td>\n",
       "    </tr>\n",
       "    <tr>\n",
       "      <th>2</th>\n",
       "      <td>564124584</td>\n",
       "      <td>1477374804021989379</td>\n",
       "      <td>1477374804021989379</td>\n",
       "      <td>None</td>\n",
       "      <td>None</td>\n",
       "      <td>2022-01-01 20:22:56</td>\n",
       "      <td>Hvis @regeringDK ønsker danske arbejdspladser,...</td>\n",
       "      <td>0</td>\n",
       "      <td>0</td>\n",
       "      <td>0</td>\n",
       "      <td>0</td>\n",
       "    </tr>\n",
       "  </tbody>\n",
       "</table>\n",
       "</div>"
      ],
      "text/plain": [
       "   author_id             tweet_id      conversation_id referenced_type  \\\n",
       "0   27206715  1477374856245166081  1477374856245166081       retweeted   \n",
       "1   92745620  1477374834829111297  1477374834829111297            None   \n",
       "2  564124584  1477374804021989379  1477374804021989379            None   \n",
       "\n",
       "         referenced_id          created_at  \\\n",
       "0  1476937026859683846 2022-01-01 20:23:08   \n",
       "1                 None 2022-01-01 20:23:03   \n",
       "2                 None 2022-01-01 20:22:56   \n",
       "\n",
       "                                                text  retweet_count  \\\n",
       "0  RT @MahmoudSuhil: Jeg ønsker alle et godt nytå...             12   \n",
       "1  Så @btdk’s dækning af statsministerens nytårst...              0   \n",
       "2  Hvis @regeringDK ønsker danske arbejdspladser,...              0   \n",
       "\n",
       "   reply_count  like_count  quote_count  \n",
       "0            0           0            0  \n",
       "1            0           0            0  \n",
       "2            0           0            0  "
      ]
     },
     "execution_count": 11,
     "metadata": {},
     "output_type": "execute_result"
    }
   ],
   "source": [
    "print(\"shape of tweets tbl: \", tweets.shape)\n",
    "tweets.head(3)"
   ]
  },
  {
   "cell_type": "code",
   "execution_count": 12,
   "metadata": {},
   "outputs": [
    {
     "name": "stdout",
     "output_type": "stream",
     "text": [
      "antal tweets, der ikke er referencer: 4898\n"
     ]
    }
   ],
   "source": [
    "print(\"antal tweets, der ikke er referencer:\", tweets[tweets['referenced_type'].isna()].shape[0])"
   ]
  },
  {
   "cell_type": "code",
   "execution_count": 13,
   "metadata": {},
   "outputs": [],
   "source": [
    "tweets_hour = tweets['created_at'].dt.hour.values\n",
    "sorted_hour = sorted(tweets_hour)\n",
    "sorted_h_str = [\"kl. \" + str(h) for h in sorted_hour]"
   ]
  },
  {
   "cell_type": "code",
   "execution_count": 14,
   "metadata": {},
   "outputs": [
    {
     "data": {
      "image/png": "[encoded data removed]",
      "text/plain": [
       "<Figure size 720x360 with 1 Axes>"
      ]
     },
     "metadata": {
      "needs_background": "light"
     },
     "output_type": "display_data"
    }
   ],
   "source": [
    "plt.hist(sorted_h_str, bins=24)\n",
    "plt.xticks(rotation='45')\n",
    "plt.title(\"Tweets per time\")\n",
    "plt.show()"
   ]
  },
  {
   "cell_type": "code",
   "execution_count": 15,
   "metadata": {},
   "outputs": [],
   "source": [
    "orig_tweets = tweets[tweets['referenced_type'].isna()]"
   ]
  },
  {
   "cell_type": "code",
   "execution_count": 16,
   "metadata": {},
   "outputs": [
    {
     "data": {
      "text/plain": [
       "<matplotlib.axes._subplots.AxesSubplot at 0x7f5a36c81400>"
      ]
     },
     "execution_count": 16,
     "metadata": {},
     "output_type": "execute_result"
    },
    {
     "data": {
      "image/png": "[encoded data removed]",
      "text/plain": [
       "<Figure size 720x360 with 1 Axes>"
      ]
     },
     "metadata": {
      "needs_background": "light"
     },
     "output_type": "display_data"
    }
   ],
   "source": [
    "orig_tweets.plot('like_count', 'retweet_count', kind=\"scatter\", title=\"retweets og likes per originalt tweet\")"
   ]
  },
  {
   "cell_type": "code",
   "execution_count": 17,
   "metadata": {},
   "outputs": [
    {
     "data": {
      "text/plain": [
       "array(['27206715', '92745620', '564124584', ..., '47666968', '1938748124',\n",
       "       '827646008993644545'], dtype=object)"
      ]
     },
     "execution_count": 17,
     "metadata": {},
     "output_type": "execute_result"
    }
   ],
   "source": [
    "tweets.author_id.unique()"
   ]
  },
  {
   "cell_type": "markdown",
   "metadata": {},
   "source": [
    "# Undersøg users"
   ]
  },
  {
   "cell_type": "code",
   "execution_count": 18,
   "metadata": {},
   "outputs": [],
   "source": [
    "dk_tw_cnt = tweets.groupby([\"author_id\"]).agg({\"tweet_id\": \"count\"}).reset_index()\n",
    "dk_tw_cnt.columns = ['id', 'n_dkpol_tweets']"
   ]
  },
  {
   "cell_type": "code",
   "execution_count": 19,
   "metadata": {},
   "outputs": [
    {
     "name": "stdout",
     "output_type": "stream",
     "text": [
      "(5533, 10)\n"
     ]
    },
    {
     "data": {
      "text/html": [
       "<div>\n",
       "<style scoped>\n",
       "    .dataframe tbody tr th:only-of-type {\n",
       "        vertical-align: middle;\n",
       "    }\n",
       "\n",
       "    .dataframe tbody tr th {\n",
       "        vertical-align: top;\n",
       "    }\n",
       "\n",
       "    .dataframe thead th {\n",
       "        text-align: right;\n",
       "    }\n",
       "</style>\n",
       "<table border=\"1\" class=\"dataframe\">\n",
       "  <thead>\n",
       "    <tr style=\"text-align: right;\">\n",
       "      <th></th>\n",
       "      <th>description</th>\n",
       "      <th>name</th>\n",
       "      <th>id</th>\n",
       "      <th>created_at</th>\n",
       "      <th>username</th>\n",
       "      <th>verified</th>\n",
       "      <th>following_count</th>\n",
       "      <th>followers_count</th>\n",
       "      <th>tweet_count</th>\n",
       "      <th>listed_count</th>\n",
       "    </tr>\n",
       "  </thead>\n",
       "  <tbody>\n",
       "    <tr>\n",
       "      <th>0</th>\n",
       "      <td>Actively interested in politics - liberal. \\nF...</td>\n",
       "      <td>Egil Rindorf</td>\n",
       "      <td>276433741</td>\n",
       "      <td>2011-04-03T10:32:39.000Z</td>\n",
       "      <td>EgilRindorf</td>\n",
       "      <td>False</td>\n",
       "      <td>115</td>\n",
       "      <td>75</td>\n",
       "      <td>188</td>\n",
       "      <td>5</td>\n",
       "    </tr>\n",
       "    <tr>\n",
       "      <th>1</th>\n",
       "      <td>infantil gadedreng med i Ældresagen Tilhænger ...</td>\n",
       "      <td>CHill</td>\n",
       "      <td>1133007036931874816</td>\n",
       "      <td>2019-05-27T13:48:22.000Z</td>\n",
       "      <td>JacobHo19670490</td>\n",
       "      <td>False</td>\n",
       "      <td>274</td>\n",
       "      <td>49</td>\n",
       "      <td>218</td>\n",
       "      <td>0</td>\n",
       "    </tr>\n",
       "    <tr>\n",
       "      <th>2</th>\n",
       "      <td>Naturgeograf, har arbejdet med satellitkortlæg...</td>\n",
       "      <td>Niels C. Nielsen er optimisisk på trods 🇩🇰 🇬🇧</td>\n",
       "      <td>88294589</td>\n",
       "      <td>2009-11-07T23:08:37.000Z</td>\n",
       "      <td>NiChNi</td>\n",
       "      <td>False</td>\n",
       "      <td>1421</td>\n",
       "      <td>917</td>\n",
       "      <td>29594</td>\n",
       "      <td>70</td>\n",
       "    </tr>\n",
       "    <tr>\n",
       "      <th>3</th>\n",
       "      <td>optimist because of will 🙌 // chef for Banking...</td>\n",
       "      <td>Karl Kjær Bang</td>\n",
       "      <td>854553068</td>\n",
       "      <td>2012-09-30T11:26:20.000Z</td>\n",
       "      <td>karlkbang</td>\n",
       "      <td>False</td>\n",
       "      <td>743</td>\n",
       "      <td>570</td>\n",
       "      <td>547</td>\n",
       "      <td>17</td>\n",
       "    </tr>\n",
       "    <tr>\n",
       "      <th>4</th>\n",
       "      <td>Mom, Social Educator, Family Counselor. Here t...</td>\n",
       "      <td>Rana Z.C. #FreePalestine #EndSettlerColonialism</td>\n",
       "      <td>913760800350900224</td>\n",
       "      <td>2017-09-29T13:42:06.000Z</td>\n",
       "      <td>nellachai</td>\n",
       "      <td>False</td>\n",
       "      <td>2186</td>\n",
       "      <td>494</td>\n",
       "      <td>6926</td>\n",
       "      <td>1</td>\n",
       "    </tr>\n",
       "  </tbody>\n",
       "</table>\n",
       "</div>"
      ],
      "text/plain": [
       "                                         description  \\\n",
       "0  Actively interested in politics - liberal. \\nF...   \n",
       "1  infantil gadedreng med i Ældresagen Tilhænger ...   \n",
       "2  Naturgeograf, har arbejdet med satellitkortlæg...   \n",
       "3  optimist because of will 🙌 // chef for Banking...   \n",
       "4  Mom, Social Educator, Family Counselor. Here t...   \n",
       "\n",
       "                                              name                   id  \\\n",
       "0                                     Egil Rindorf            276433741   \n",
       "1                                            CHill  1133007036931874816   \n",
       "2    Niels C. Nielsen er optimisisk på trods 🇩🇰 🇬🇧             88294589   \n",
       "3                                   Karl Kjær Bang            854553068   \n",
       "4  Rana Z.C. #FreePalestine #EndSettlerColonialism   913760800350900224   \n",
       "\n",
       "                 created_at         username  verified  following_count  \\\n",
       "0  2011-04-03T10:32:39.000Z      EgilRindorf     False              115   \n",
       "1  2019-05-27T13:48:22.000Z  JacobHo19670490     False              274   \n",
       "2  2009-11-07T23:08:37.000Z           NiChNi     False             1421   \n",
       "3  2012-09-30T11:26:20.000Z        karlkbang     False              743   \n",
       "4  2017-09-29T13:42:06.000Z        nellachai     False             2186   \n",
       "\n",
       "   followers_count  tweet_count  listed_count  \n",
       "0               75          188             5  \n",
       "1               49          218             0  \n",
       "2              917        29594            70  \n",
       "3              570          547            17  \n",
       "4              494         6926             1  "
      ]
     },
     "execution_count": 19,
     "metadata": {},
     "output_type": "execute_result"
    }
   ],
   "source": [
    "users = dm.query_db(\"select * from twitter.users\")\n",
    "print(users.shape)\n",
    "\n",
    "users.head(5)\n"
   ]
  },
  {
   "cell_type": "code",
   "execution_count": 20,
   "metadata": {},
   "outputs": [],
   "source": [
    "users = users.merge(dk_tw_cnt,\n",
    "                   how=\"left\",\n",
    "                   on=\"id\")"
   ]
  },
  {
   "cell_type": "code",
   "execution_count": 21,
   "metadata": {},
   "outputs": [
    {
     "data": {
      "image/png": "[encoded data removed]",
      "text/plain": [
       "<Figure size 720x360 with 1 Axes>"
      ]
     },
     "metadata": {
      "needs_background": "light"
     },
     "output_type": "display_data"
    }
   ],
   "source": [
    "plt.yscale(\"log\")\n",
    "plt.xscale(\"log\")\n",
    "\n",
    "plt.xlim([9, users[\"n_dkpol_tweets\"].max()])\n",
    "plt.ylim([9, users[\"followers_count\"].max()])\n",
    "plt.scatter(users[\"n_dkpol_tweets\"], users[\"followers_count\"], marker=\"o\")\n",
    "\n",
    "plt.xlabel('n_dkpol_tweets')\n",
    "plt.ylabel('followers_count')\n",
    "\n",
    "for x,y, name in zip(users[\"n_dkpol_tweets\"], users[\"followers_count\"], users['username']):\n",
    "    if x > 100 or y > 20000:\n",
    "        plt.annotate(name, (x,y), rotation=\"10\")"
   ]
  },
  {
   "cell_type": "markdown",
   "metadata": {},
   "source": [
    "# byg en mention-graf\n",
    "\n",
    "1. directed graf, hvor nodes er brugere, og edges er når én bruger nævner en anden\n",
    "2. noder har attributter: navn, n_followers, created_date\n",
    "3. edges har created_date, tweet_id\n",
    "\n",
    "\n",
    "### forudsætninger\n",
    "\n",
    "tabel, hvor hver række er én bruger, der nævner en anden bruger\n"
   ]
  },
  {
   "cell_type": "code",
   "execution_count": 22,
   "metadata": {},
   "outputs": [
    {
     "data": {
      "text/html": [
       "<div>\n",
       "<style scoped>\n",
       "    .dataframe tbody tr th:only-of-type {\n",
       "        vertical-align: middle;\n",
       "    }\n",
       "\n",
       "    .dataframe tbody tr th {\n",
       "        vertical-align: top;\n",
       "    }\n",
       "\n",
       "    .dataframe thead th {\n",
       "        text-align: right;\n",
       "    }\n",
       "</style>\n",
       "<table border=\"1\" class=\"dataframe\">\n",
       "  <thead>\n",
       "    <tr style=\"text-align: right;\">\n",
       "      <th></th>\n",
       "      <th>author_id</th>\n",
       "      <th>tweet_id</th>\n",
       "      <th>conversation_id</th>\n",
       "      <th>referenced_type</th>\n",
       "      <th>referenced_id</th>\n",
       "      <th>created_at</th>\n",
       "      <th>text</th>\n",
       "      <th>retweet_count</th>\n",
       "      <th>reply_count</th>\n",
       "      <th>like_count</th>\n",
       "      <th>quote_count</th>\n",
       "    </tr>\n",
       "  </thead>\n",
       "  <tbody>\n",
       "    <tr>\n",
       "      <th>0</th>\n",
       "      <td>27206715</td>\n",
       "      <td>1477374856245166081</td>\n",
       "      <td>1477374856245166081</td>\n",
       "      <td>retweeted</td>\n",
       "      <td>1476937026859683846</td>\n",
       "      <td>2022-01-01 20:23:08</td>\n",
       "      <td>RT @MahmoudSuhil: Jeg ønsker alle et godt nytå...</td>\n",
       "      <td>12</td>\n",
       "      <td>0</td>\n",
       "      <td>0</td>\n",
       "      <td>0</td>\n",
       "    </tr>\n",
       "    <tr>\n",
       "      <th>1</th>\n",
       "      <td>92745620</td>\n",
       "      <td>1477374834829111297</td>\n",
       "      <td>1477374834829111297</td>\n",
       "      <td>None</td>\n",
       "      <td>None</td>\n",
       "      <td>2022-01-01 20:23:03</td>\n",
       "      <td>Så @btdk’s dækning af statsministerens nytårst...</td>\n",
       "      <td>0</td>\n",
       "      <td>0</td>\n",
       "      <td>0</td>\n",
       "      <td>0</td>\n",
       "    </tr>\n",
       "    <tr>\n",
       "      <th>2</th>\n",
       "      <td>564124584</td>\n",
       "      <td>1477374804021989379</td>\n",
       "      <td>1477374804021989379</td>\n",
       "      <td>None</td>\n",
       "      <td>None</td>\n",
       "      <td>2022-01-01 20:22:56</td>\n",
       "      <td>Hvis @regeringDK ønsker danske arbejdspladser,...</td>\n",
       "      <td>0</td>\n",
       "      <td>0</td>\n",
       "      <td>0</td>\n",
       "      <td>0</td>\n",
       "    </tr>\n",
       "    <tr>\n",
       "      <th>3</th>\n",
       "      <td>1237424391941693442</td>\n",
       "      <td>1477374377876500480</td>\n",
       "      <td>1477374377876500480</td>\n",
       "      <td>retweeted</td>\n",
       "      <td>1477334697936142339</td>\n",
       "      <td>2022-01-01 20:21:14</td>\n",
       "      <td>RT @CharlotteLundDi: De der nyttejobs, som sta...</td>\n",
       "      <td>2</td>\n",
       "      <td>0</td>\n",
       "      <td>0</td>\n",
       "      <td>0</td>\n",
       "    </tr>\n",
       "    <tr>\n",
       "      <th>4</th>\n",
       "      <td>4871281751</td>\n",
       "      <td>1477374232732524544</td>\n",
       "      <td>1477374232732524544</td>\n",
       "      <td>None</td>\n",
       "      <td>None</td>\n",
       "      <td>2022-01-01 20:20:40</td>\n",
       "      <td>Stort tillykke til Ældre Sagen.\\nMan pustede e...</td>\n",
       "      <td>0</td>\n",
       "      <td>0</td>\n",
       "      <td>0</td>\n",
       "      <td>0</td>\n",
       "    </tr>\n",
       "  </tbody>\n",
       "</table>\n",
       "</div>"
      ],
      "text/plain": [
       "             author_id             tweet_id      conversation_id  \\\n",
       "0             27206715  1477374856245166081  1477374856245166081   \n",
       "1             92745620  1477374834829111297  1477374834829111297   \n",
       "2            564124584  1477374804021989379  1477374804021989379   \n",
       "3  1237424391941693442  1477374377876500480  1477374377876500480   \n",
       "4           4871281751  1477374232732524544  1477374232732524544   \n",
       "\n",
       "  referenced_type        referenced_id          created_at  \\\n",
       "0       retweeted  1476937026859683846 2022-01-01 20:23:08   \n",
       "1            None                 None 2022-01-01 20:23:03   \n",
       "2            None                 None 2022-01-01 20:22:56   \n",
       "3       retweeted  1477334697936142339 2022-01-01 20:21:14   \n",
       "4            None                 None 2022-01-01 20:20:40   \n",
       "\n",
       "                                                text  retweet_count  \\\n",
       "0  RT @MahmoudSuhil: Jeg ønsker alle et godt nytå...             12   \n",
       "1  Så @btdk’s dækning af statsministerens nytårst...              0   \n",
       "2  Hvis @regeringDK ønsker danske arbejdspladser,...              0   \n",
       "3  RT @CharlotteLundDi: De der nyttejobs, som sta...              2   \n",
       "4  Stort tillykke til Ældre Sagen.\\nMan pustede e...              0   \n",
       "\n",
       "   reply_count  like_count  quote_count  \n",
       "0            0           0            0  \n",
       "1            0           0            0  \n",
       "2            0           0            0  \n",
       "3            0           0            0  \n",
       "4            0           0            0  "
      ]
     },
     "execution_count": 22,
     "metadata": {},
     "output_type": "execute_result"
    }
   ],
   "source": [
    "tweets.head(5)"
   ]
  },
  {
   "cell_type": "code",
   "execution_count": 23,
   "metadata": {},
   "outputs": [
    {
     "data": {
      "text/html": [
       "<div>\n",
       "<style scoped>\n",
       "    .dataframe tbody tr th:only-of-type {\n",
       "        vertical-align: middle;\n",
       "    }\n",
       "\n",
       "    .dataframe tbody tr th {\n",
       "        vertical-align: top;\n",
       "    }\n",
       "\n",
       "    .dataframe thead th {\n",
       "        text-align: right;\n",
       "    }\n",
       "</style>\n",
       "<table border=\"1\" class=\"dataframe\">\n",
       "  <thead>\n",
       "    <tr style=\"text-align: right;\">\n",
       "      <th></th>\n",
       "      <th>description</th>\n",
       "      <th>name</th>\n",
       "      <th>id</th>\n",
       "      <th>created_at</th>\n",
       "      <th>username</th>\n",
       "      <th>verified</th>\n",
       "      <th>following_count</th>\n",
       "      <th>followers_count</th>\n",
       "      <th>tweet_count</th>\n",
       "      <th>listed_count</th>\n",
       "      <th>n_dkpol_tweets</th>\n",
       "    </tr>\n",
       "  </thead>\n",
       "  <tbody>\n",
       "    <tr>\n",
       "      <th>4793</th>\n",
       "      <td>The Future is Europe! Follow us for analysis a...</td>\n",
       "      <td>Promote Ukraine</td>\n",
       "      <td>3995036555</td>\n",
       "      <td>2015-10-19T14:24:44.000Z</td>\n",
       "      <td>PromoteUkraine</td>\n",
       "      <td>False</td>\n",
       "      <td>857</td>\n",
       "      <td>3126</td>\n",
       "      <td>8551</td>\n",
       "      <td>53</td>\n",
       "      <td>1.0</td>\n",
       "    </tr>\n",
       "  </tbody>\n",
       "</table>\n",
       "</div>"
      ],
      "text/plain": [
       "                                            description             name  \\\n",
       "4793  The Future is Europe! Follow us for analysis a...  Promote Ukraine   \n",
       "\n",
       "              id                created_at        username  verified  \\\n",
       "4793  3995036555  2015-10-19T14:24:44.000Z  PromoteUkraine     False   \n",
       "\n",
       "      following_count  followers_count  tweet_count  listed_count  \\\n",
       "4793              857             3126         8551            53   \n",
       "\n",
       "      n_dkpol_tweets  \n",
       "4793             1.0  "
      ]
     },
     "execution_count": 23,
     "metadata": {},
     "output_type": "execute_result"
    }
   ],
   "source": [
    "users[users['username'] == \"PromoteUkraine\"]"
   ]
  },
  {
   "cell_type": "code",
   "execution_count": 24,
   "metadata": {},
   "outputs": [
    {
     "data": {
      "text/html": [
       "<div>\n",
       "<style scoped>\n",
       "    .dataframe tbody tr th:only-of-type {\n",
       "        vertical-align: middle;\n",
       "    }\n",
       "\n",
       "    .dataframe tbody tr th {\n",
       "        vertical-align: top;\n",
       "    }\n",
       "\n",
       "    .dataframe thead th {\n",
       "        text-align: right;\n",
       "    }\n",
       "</style>\n",
       "<table border=\"1\" class=\"dataframe\">\n",
       "  <thead>\n",
       "    <tr style=\"text-align: right;\">\n",
       "      <th></th>\n",
       "      <th>description</th>\n",
       "      <th>name</th>\n",
       "      <th>id</th>\n",
       "      <th>created_at</th>\n",
       "      <th>username</th>\n",
       "      <th>verified</th>\n",
       "      <th>following_count</th>\n",
       "      <th>followers_count</th>\n",
       "      <th>tweet_count</th>\n",
       "      <th>listed_count</th>\n",
       "      <th>n_dkpol_tweets</th>\n",
       "    </tr>\n",
       "  </thead>\n",
       "  <tbody>\n",
       "    <tr>\n",
       "      <th>0</th>\n",
       "      <td>Actively interested in politics - liberal. \\nF...</td>\n",
       "      <td>Egil Rindorf</td>\n",
       "      <td>276433741</td>\n",
       "      <td>2011-04-03T10:32:39.000Z</td>\n",
       "      <td>EgilRindorf</td>\n",
       "      <td>False</td>\n",
       "      <td>115</td>\n",
       "      <td>75</td>\n",
       "      <td>188</td>\n",
       "      <td>5</td>\n",
       "      <td>1.0</td>\n",
       "    </tr>\n",
       "    <tr>\n",
       "      <th>1</th>\n",
       "      <td>infantil gadedreng med i Ældresagen Tilhænger ...</td>\n",
       "      <td>CHill</td>\n",
       "      <td>1133007036931874816</td>\n",
       "      <td>2019-05-27T13:48:22.000Z</td>\n",
       "      <td>JacobHo19670490</td>\n",
       "      <td>False</td>\n",
       "      <td>274</td>\n",
       "      <td>49</td>\n",
       "      <td>218</td>\n",
       "      <td>0</td>\n",
       "      <td>8.0</td>\n",
       "    </tr>\n",
       "    <tr>\n",
       "      <th>2</th>\n",
       "      <td>Naturgeograf, har arbejdet med satellitkortlæg...</td>\n",
       "      <td>Niels C. Nielsen er optimisisk på trods 🇩🇰 🇬🇧</td>\n",
       "      <td>88294589</td>\n",
       "      <td>2009-11-07T23:08:37.000Z</td>\n",
       "      <td>NiChNi</td>\n",
       "      <td>False</td>\n",
       "      <td>1421</td>\n",
       "      <td>917</td>\n",
       "      <td>29594</td>\n",
       "      <td>70</td>\n",
       "      <td>2.0</td>\n",
       "    </tr>\n",
       "    <tr>\n",
       "      <th>3</th>\n",
       "      <td>optimist because of will 🙌 // chef for Banking...</td>\n",
       "      <td>Karl Kjær Bang</td>\n",
       "      <td>854553068</td>\n",
       "      <td>2012-09-30T11:26:20.000Z</td>\n",
       "      <td>karlkbang</td>\n",
       "      <td>False</td>\n",
       "      <td>743</td>\n",
       "      <td>570</td>\n",
       "      <td>547</td>\n",
       "      <td>17</td>\n",
       "      <td>1.0</td>\n",
       "    </tr>\n",
       "    <tr>\n",
       "      <th>4</th>\n",
       "      <td>Mom, Social Educator, Family Counselor. Here t...</td>\n",
       "      <td>Rana Z.C. #FreePalestine #EndSettlerColonialism</td>\n",
       "      <td>913760800350900224</td>\n",
       "      <td>2017-09-29T13:42:06.000Z</td>\n",
       "      <td>nellachai</td>\n",
       "      <td>False</td>\n",
       "      <td>2186</td>\n",
       "      <td>494</td>\n",
       "      <td>6926</td>\n",
       "      <td>1</td>\n",
       "      <td>1.0</td>\n",
       "    </tr>\n",
       "  </tbody>\n",
       "</table>\n",
       "</div>"
      ],
      "text/plain": [
       "                                         description  \\\n",
       "0  Actively interested in politics - liberal. \\nF...   \n",
       "1  infantil gadedreng med i Ældresagen Tilhænger ...   \n",
       "2  Naturgeograf, har arbejdet med satellitkortlæg...   \n",
       "3  optimist because of will 🙌 // chef for Banking...   \n",
       "4  Mom, Social Educator, Family Counselor. Here t...   \n",
       "\n",
       "                                              name                   id  \\\n",
       "0                                     Egil Rindorf            276433741   \n",
       "1                                            CHill  1133007036931874816   \n",
       "2    Niels C. Nielsen er optimisisk på trods 🇩🇰 🇬🇧             88294589   \n",
       "3                                   Karl Kjær Bang            854553068   \n",
       "4  Rana Z.C. #FreePalestine #EndSettlerColonialism   913760800350900224   \n",
       "\n",
       "                 created_at         username  verified  following_count  \\\n",
       "0  2011-04-03T10:32:39.000Z      EgilRindorf     False              115   \n",
       "1  2019-05-27T13:48:22.000Z  JacobHo19670490     False              274   \n",
       "2  2009-11-07T23:08:37.000Z           NiChNi     False             1421   \n",
       "3  2012-09-30T11:26:20.000Z        karlkbang     False              743   \n",
       "4  2017-09-29T13:42:06.000Z        nellachai     False             2186   \n",
       "\n",
       "   followers_count  tweet_count  listed_count  n_dkpol_tweets  \n",
       "0               75          188             5             1.0  \n",
       "1               49          218             0             8.0  \n",
       "2              917        29594            70             2.0  \n",
       "3              570          547            17             1.0  \n",
       "4              494         6926             1             1.0  "
      ]
     },
     "execution_count": 24,
     "metadata": {},
     "output_type": "execute_result"
    }
   ],
   "source": [
    "users.head(5)"
   ]
  },
  {
   "cell_type": "code",
   "execution_count": 25,
   "metadata": {},
   "outputs": [
    {
     "name": "stdout",
     "output_type": "stream",
     "text": [
      "mentions: (17089, 2)\n",
      "mentions and authos: (17089, 4)\n",
      "mentions and authors and followers step 1: (17088, 6)\n",
      "mentions and authors and followers step 2: (14723, 8)\n"
     ]
    }
   ],
   "source": [
    "\n",
    "#tag alle rækker, hvor der er mentions\n",
    "mentions = entities[~entities['mentioned_id'].isna()][[\"tweet_id\",\"mentioned_id\"]]\n",
    "print(\"mentions:\", mentions.shape)\n",
    "\n",
    "# join author_id på\n",
    "mentions_and_authors = mentions.merge(tweets[[\"author_id\", \"tweet_id\", \"created_at\"]],\n",
    "                                      how=\"inner\",\n",
    "                                      on=\"tweet_id\")\n",
    "\n",
    "\n",
    "print(\"mentions and authos:\", mentions_and_authors.shape)\n",
    "\n",
    "#join author_user stats på\n",
    "author_users = users[['username', \"followers_count\", \"id\"]]\n",
    "author_users.columns = ['author_username', \"author_followers\", \"author_id\"]\n",
    "\n",
    "\n",
    "\n",
    "\n",
    "mentions_authors_and_followers_tmp = mentions_and_authors.merge(author_users,\n",
    "                                                           how=\"inner\",\n",
    "                                                           on=\"author_id\",\n",
    "        \n",
    "                                                               )\n",
    "\n",
    "print(\"mentions and authors and followers step 1:\", mentions_authors_and_followers_tmp.shape)\n",
    "\n",
    "\n",
    "#join mentioned_user stats på\n",
    "mentioned_users = users[['username', \"followers_count\", \"id\"]]\n",
    "mentioned_users.columns = ['mentioned_username', \"mentioned_followers\", \"mentioned_id\"]\n",
    "\n",
    "\n",
    "maf = mentions_authors_and_followers_tmp.merge(mentioned_users,\n",
    "                                                           how=\"inner\",\n",
    "                                                           on=\"mentioned_id\",\n",
    "                                                           )\n",
    "\n",
    "\n",
    "print(\"mentions and authors and followers step 2:\", maf.shape)\n"
   ]
  },
  {
   "cell_type": "code",
   "execution_count": 32,
   "metadata": {},
   "outputs": [
    {
     "data": {
      "text/html": [
       "<div>\n",
       "<style scoped>\n",
       "    .dataframe tbody tr th:only-of-type {\n",
       "        vertical-align: middle;\n",
       "    }\n",
       "\n",
       "    .dataframe tbody tr th {\n",
       "        vertical-align: top;\n",
       "    }\n",
       "\n",
       "    .dataframe thead th {\n",
       "        text-align: right;\n",
       "    }\n",
       "</style>\n",
       "<table border=\"1\" class=\"dataframe\">\n",
       "  <thead>\n",
       "    <tr style=\"text-align: right;\">\n",
       "      <th></th>\n",
       "      <th>tweet_id</th>\n",
       "      <th>mentioned_id</th>\n",
       "      <th>author_id</th>\n",
       "      <th>created_at</th>\n",
       "      <th>author_username</th>\n",
       "      <th>author_followers</th>\n",
       "      <th>mentioned_username</th>\n",
       "      <th>mentioned_followers</th>\n",
       "    </tr>\n",
       "  </thead>\n",
       "  <tbody>\n",
       "    <tr>\n",
       "      <th>0</th>\n",
       "      <td>1477374856245166081</td>\n",
       "      <td>1462520590884126721</td>\n",
       "      <td>27206715</td>\n",
       "      <td>2022-01-01 20:23:08</td>\n",
       "      <td>stensamler</td>\n",
       "      <td>696</td>\n",
       "      <td>MahmoudSuhil</td>\n",
       "      <td>254</td>\n",
       "    </tr>\n",
       "    <tr>\n",
       "      <th>1</th>\n",
       "      <td>1476937485649428484</td>\n",
       "      <td>1462520590884126721</td>\n",
       "      <td>1263752238</td>\n",
       "      <td>2021-12-31 15:25:11</td>\n",
       "      <td>BosseStine</td>\n",
       "      <td>36847</td>\n",
       "      <td>MahmoudSuhil</td>\n",
       "      <td>254</td>\n",
       "    </tr>\n",
       "    <tr>\n",
       "      <th>2</th>\n",
       "      <td>1476267406192431105</td>\n",
       "      <td>1462520590884126721</td>\n",
       "      <td>1263752238</td>\n",
       "      <td>2021-12-29 19:02:32</td>\n",
       "      <td>BosseStine</td>\n",
       "      <td>36847</td>\n",
       "      <td>MahmoudSuhil</td>\n",
       "      <td>254</td>\n",
       "    </tr>\n",
       "    <tr>\n",
       "      <th>3</th>\n",
       "      <td>1476950470316986376</td>\n",
       "      <td>1462520590884126721</td>\n",
       "      <td>4112826165</td>\n",
       "      <td>2021-12-31 16:16:47</td>\n",
       "      <td>MirRou64</td>\n",
       "      <td>1500</td>\n",
       "      <td>MahmoudSuhil</td>\n",
       "      <td>254</td>\n",
       "    </tr>\n",
       "    <tr>\n",
       "      <th>4</th>\n",
       "      <td>1476232725984165893</td>\n",
       "      <td>1462520590884126721</td>\n",
       "      <td>4112826165</td>\n",
       "      <td>2021-12-29 16:44:43</td>\n",
       "      <td>MirRou64</td>\n",
       "      <td>1500</td>\n",
       "      <td>MahmoudSuhil</td>\n",
       "      <td>254</td>\n",
       "    </tr>\n",
       "    <tr>\n",
       "      <th>...</th>\n",
       "      <td>...</td>\n",
       "      <td>...</td>\n",
       "      <td>...</td>\n",
       "      <td>...</td>\n",
       "      <td>...</td>\n",
       "      <td>...</td>\n",
       "      <td>...</td>\n",
       "      <td>...</td>\n",
       "    </tr>\n",
       "    <tr>\n",
       "      <th>14718</th>\n",
       "      <td>1478662784753750022</td>\n",
       "      <td>3163469968</td>\n",
       "      <td>1305755135860183040</td>\n",
       "      <td>2022-01-05 09:40:54</td>\n",
       "      <td>SvejgaardYeah</td>\n",
       "      <td>157</td>\n",
       "      <td>emichriste1</td>\n",
       "      <td>112</td>\n",
       "    </tr>\n",
       "    <tr>\n",
       "      <th>14719</th>\n",
       "      <td>1478615973586423810</td>\n",
       "      <td>2809686131</td>\n",
       "      <td>925650465165053954</td>\n",
       "      <td>2022-01-05 06:34:54</td>\n",
       "      <td>TimWeyler</td>\n",
       "      <td>2</td>\n",
       "      <td>MartinNbech</td>\n",
       "      <td>402</td>\n",
       "    </tr>\n",
       "    <tr>\n",
       "      <th>14720</th>\n",
       "      <td>1478612606235643905</td>\n",
       "      <td>998898180585639937</td>\n",
       "      <td>1212371347537424385</td>\n",
       "      <td>2022-01-05 06:21:31</td>\n",
       "      <td>JohnRhodes_GR8</td>\n",
       "      <td>4</td>\n",
       "      <td>bwrtdk</td>\n",
       "      <td>31</td>\n",
       "    </tr>\n",
       "    <tr>\n",
       "      <th>14721</th>\n",
       "      <td>1478470495297318915</td>\n",
       "      <td>70342553</td>\n",
       "      <td>16313312</td>\n",
       "      <td>2022-01-04 20:56:49</td>\n",
       "      <td>Annimogensen</td>\n",
       "      <td>201</td>\n",
       "      <td>Nationalmuseet</td>\n",
       "      <td>8820</td>\n",
       "    </tr>\n",
       "    <tr>\n",
       "      <th>14722</th>\n",
       "      <td>1478438429381824512</td>\n",
       "      <td>1231329149408751616</td>\n",
       "      <td>1396731360</td>\n",
       "      <td>2022-01-04 18:49:24</td>\n",
       "      <td>KirkegaardHelle</td>\n",
       "      <td>114</td>\n",
       "      <td>Hverdagsfemini1</td>\n",
       "      <td>117</td>\n",
       "    </tr>\n",
       "  </tbody>\n",
       "</table>\n",
       "<p>14723 rows × 8 columns</p>\n",
       "</div>"
      ],
      "text/plain": [
       "                  tweet_id         mentioned_id            author_id  \\\n",
       "0      1477374856245166081  1462520590884126721             27206715   \n",
       "1      1476937485649428484  1462520590884126721           1263752238   \n",
       "2      1476267406192431105  1462520590884126721           1263752238   \n",
       "3      1476950470316986376  1462520590884126721           4112826165   \n",
       "4      1476232725984165893  1462520590884126721           4112826165   \n",
       "...                    ...                  ...                  ...   \n",
       "14718  1478662784753750022           3163469968  1305755135860183040   \n",
       "14719  1478615973586423810           2809686131   925650465165053954   \n",
       "14720  1478612606235643905   998898180585639937  1212371347537424385   \n",
       "14721  1478470495297318915             70342553             16313312   \n",
       "14722  1478438429381824512  1231329149408751616           1396731360   \n",
       "\n",
       "               created_at  author_username  author_followers  \\\n",
       "0     2022-01-01 20:23:08       stensamler               696   \n",
       "1     2021-12-31 15:25:11       BosseStine             36847   \n",
       "2     2021-12-29 19:02:32       BosseStine             36847   \n",
       "3     2021-12-31 16:16:47         MirRou64              1500   \n",
       "4     2021-12-29 16:44:43         MirRou64              1500   \n",
       "...                   ...              ...               ...   \n",
       "14718 2022-01-05 09:40:54    SvejgaardYeah               157   \n",
       "14719 2022-01-05 06:34:54        TimWeyler                 2   \n",
       "14720 2022-01-05 06:21:31   JohnRhodes_GR8                 4   \n",
       "14721 2022-01-04 20:56:49     Annimogensen               201   \n",
       "14722 2022-01-04 18:49:24  KirkegaardHelle               114   \n",
       "\n",
       "      mentioned_username  mentioned_followers  \n",
       "0           MahmoudSuhil                  254  \n",
       "1           MahmoudSuhil                  254  \n",
       "2           MahmoudSuhil                  254  \n",
       "3           MahmoudSuhil                  254  \n",
       "4           MahmoudSuhil                  254  \n",
       "...                  ...                  ...  \n",
       "14718        emichriste1                  112  \n",
       "14719        MartinNbech                  402  \n",
       "14720             bwrtdk                   31  \n",
       "14721     Nationalmuseet                 8820  \n",
       "14722    Hverdagsfemini1                  117  \n",
       "\n",
       "[14723 rows x 8 columns]"
      ]
     },
     "execution_count": 32,
     "metadata": {},
     "output_type": "execute_result"
    }
   ],
   "source": [
    "maf[maf['author_username'] == ]"
   ]
  },
  {
   "cell_type": "code",
   "execution_count": 26,
   "metadata": {},
   "outputs": [
    {
     "data": {
      "text/plain": [
       "(1221, 8)"
      ]
     },
     "execution_count": 26,
     "metadata": {},
     "output_type": "execute_result"
    }
   ],
   "source": [
    "follower_threshold = 3000\n",
    "\n",
    "power_maf = maf[(maf['author_followers'] > follower_threshold) \n",
    "                & (maf['mentioned_followers'] > follower_threshold)]\n",
    "power_maf.shape"
   ]
  },
  {
   "cell_type": "code",
   "execution_count": 27,
   "metadata": {},
   "outputs": [],
   "source": [
    "G = nx.MultiDiGraph()\n",
    "\n",
    "for i, row in power_maf.iterrows():\n",
    "    G.add_edge(row.author_username, \n",
    "               row.mentioned_username,\n",
    "               created_at = row.created_at.strftime(\"%Y-%m-%dT%H:%M:%SZ\"),\n",
    "               #created_at = row.created_at.isoformat(),\n",
    "               tweet_id = row.tweet_id\n",
    "              )\n",
    "    \n",
    "    #G.nodes[row.author_id]['username'] = row.author_username\n",
    "    G.nodes[row.author_username]['followers'] = row.author_followers\n",
    "    \n",
    "    \n",
    "    #G.nodes[row.mentioned_id]['username'] = row.mentioned_username\n",
    "    G.nodes[row.mentioned_username]['followers'] = row.mentioned_followers\n",
    "    \n",
    "    \n",
    "    \n"
   ]
  },
  {
   "cell_type": "code",
   "execution_count": 28,
   "metadata": {},
   "outputs": [],
   "source": [
    "def get_max_date(d):\n",
    "    dates = [v['created_at'] for v in d.values()]\n",
    " \n",
    "    return max(dates)\n",
    "\n",
    "def get_min_date(d):\n",
    "    dates = [v['created_at'] for v in d.values()]\n",
    "    return min(dates)"
   ]
  },
  {
   "cell_type": "code",
   "execution_count": 29,
   "metadata": {},
   "outputs": [],
   "source": [
    "#convert to digraph\n",
    "\n",
    "G2 = nx.DiGraph()\n",
    "\n",
    "\n",
    "for n1,n2,data in G.in_edges(data=True):\n",
    "    \n",
    "    if len(G[n1][n2]) == 1:\n",
    "        G2.add_edge(n1,n2,\n",
    "                   start = data['created_at'],\n",
    "                   end = data['created_at'])\n",
    "\n",
    "    if len(G[n1][n2]) > 1:\n",
    "        G2.add_edge(n1,n2,\n",
    "               start = get_min_date(dict(G[n1][n2])),\n",
    "               end = get_max_date(dict(G[n1][n2]))\n",
    "                   )\n",
    "        \n",
    "\n",
    "        \n",
    "        \n",
    "for node, data in G.nodes(data=True):\n",
    "    G2.add_node(node, followers = data['followers'])\n",
    "    \n",
    "    start_dates = [data['start'] for n1,n2, data in G2.in_edges(node, data=True)]\n",
    "    \n",
    "    start_dates += [data['start'] for n1,n2, data in G2.out_edges(node, data=True)]\n",
    "    \n",
    "    \n",
    "    end_dates = [data['end'] for n1,n2, data in G2.in_edges(node, data=True)]\n",
    "    \n",
    "    end_dates += [data['end'] for n1,n2, data in G2.out_edges(node, data=True)]\n",
    "    \n",
    "    \n",
    "    G2.nodes[node]['start'] = min(start_dates)\n",
    "    G2.nodes[node]['end'] = max(end_dates)\n",
    "    \n",
    "    "
   ]
  },
  {
   "cell_type": "code",
   "execution_count": 30,
   "metadata": {},
   "outputs": [
    {
     "name": "stdout",
     "output_type": "stream",
     "text": [
      "{'start': '2022-01-01T18:19:59Z', 'end': '2022-01-01T18:19:59Z'}\n"
     ]
    }
   ],
   "source": [
    "for n1,n2,data in G2.edges(data=True):\n",
    "    print(data)\n",
    "    break"
   ]
  },
  {
   "cell_type": "code",
   "execution_count": 31,
   "metadata": {},
   "outputs": [],
   "source": [
    "nx.write_gexf(G2, \"mention_G.gexf\")"
   ]
  },
  {
   "cell_type": "code",
   "execution_count": null,
   "metadata": {},
   "outputs": [],
   "source": []
  }
 ],
 "metadata": {
  "kernelspec": {
   "display_name": "dkpol",
   "language": "python",
   "name": "dkpol"
  },
  "language_info": {
   "codemirror_mode": {
    "name": "ipython",
    "version": 3
   },
   "file_extension": ".py",
   "mimetype": "text/x-python",
   "name": "python",
   "nbconvert_exporter": "python",
   "pygments_lexer": "ipython3",
   "version": "3.6.9"
  }
 },
 "nbformat": 4,
 "nbformat_minor": 4
}
